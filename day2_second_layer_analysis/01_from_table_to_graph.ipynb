{
 "cells": [
  {
   "cell_type": "markdown",
   "id": "89d0b367-2dbd-4e70-91e6-87f2f2a74e9c",
   "metadata": {
    "tags": []
   },
   "source": [
    "# Second layer analysis: From tabular data to graph\n",
    "\n",
    "By [Serena Bonaretti](https://sbonaretti.github.io/), 2022  \n",
    "Notebook license: CC-BY   \n",
    "Code license: GNU-GPL-3.0  \n",
    "\n",
    "---"
   ]
  },
  {
   "cell_type": "markdown",
   "id": "85f53bd0-6d5d-48de-a455-a2c845b656c0",
   "metadata": {},
   "source": [
    "- In this notebook you will learn about:   \n",
    "  [1. Reading tabular data using Pandas](#readingdata)  \n",
    "  [2. Creating a scatter plot using Matplotlib](#scatterplot)    \n",
    "  [3. Computing $r^2$ and regression coefficients](#regressionline)    \n",
    "  [4. Specifying code dependencies](#dependencies)  \n",
    "  [5. More: Several ways to do the same thing...](#samesamebutdifferent)"
   ]
  },
  {
   "cell_type": "markdown",
   "id": "35d9b0e2-5afc-4f7c-b777-f20b1b500c96",
   "metadata": {},
   "source": [
    "- We will recreate Figure 5 of the paper [Computational finite element bone mechanics accurately predicts mechanical competence in the human radius of an elderly population](https://www.sciencedirect.com/science/article/abs/pii/S8756328211000743?via%3Dihub) by Muller et al., 2011 (find paper in the folder *Material*)\n",
    "\n",
    "\n",
    "<img src=\"./material/2011_Mueller_figure5.png\" width=\"400\">\n",
    "\n",
    "- Data are in the file *2011_Mueller_data.csv* \n",
    "- `.csv` is the open source version of Excel, therefore it does not need a Microsoft license to be opened and saved  \n",
    "- *Note:* the data are not exactly the ones from the paper, but an estimate. Thus, graphs and equation will be slightly different\n",
    "\n",
    "\n",
    "- Aim: You can use this notebook as the base for second layer analysis for your studies. You can then attach the modified notebooks to your publications"
   ]
  },
  {
   "cell_type": "markdown",
   "id": "d7351e85-6012-47fe-9be9-1d13ac0cf682",
   "metadata": {
    "tags": []
   },
   "source": [
    "---\n",
    "<a name=\"readingdata\"></a>\n",
    "\n",
    "## 1. Reading tabular data using Pandas \n",
    "\n"
   ]
  },
  {
   "cell_type": "markdown",
   "id": "ee5f80f5-88d5-4d50-b5cb-b3a3693839ab",
   "metadata": {},
   "source": [
    "- To manipulate tabular data, we usually use the Python package Pandas\n",
    "  - Pandas documentation: [here](https://pandas.pydata.org/)\n",
    "  - Pandas cheat sheet: [here](https://drive.google.com/file/d/1UHK8wtWbADvHKXFC937IS6MTnlSZC_zB/view)"
   ]
  },
  {
   "cell_type": "markdown",
   "id": "3ea18bf9-9bf3-496a-8e4a-552c5fd1dd8c",
   "metadata": {},
   "source": [
    "- Import Pandas:"
   ]
  },
  {
   "cell_type": "code",
   "execution_count": null,
   "id": "345fcf58-fd5c-4734-9fd5-a1df1a630d43",
   "metadata": {},
   "outputs": [],
   "source": []
  },
  {
   "cell_type": "markdown",
   "id": "b59e8966-efb8-40ed-b4c7-01b4257c209d",
   "metadata": {},
   "source": [
    "- Read the data using `pd.read_csv(file_name)`:  "
   ]
  },
  {
   "cell_type": "code",
   "execution_count": null,
   "id": "df7fa6fc-09c4-42a4-9396-d1fd3478c751",
   "metadata": {},
   "outputs": [],
   "source": []
  },
  {
   "cell_type": "markdown",
   "id": "6fb3eb16-5a12-44c7-87a5-31fe1dba0bd9",
   "metadata": {},
   "source": [
    "- Notes:\n",
    "  - In Pandas, tables are called DataFrames and are usually named as `df` or a variation of it (e.g. `df_radius`) \n",
    "  - Row numbers start from `0`\n",
    "  - In Pandas, data should always be organized this way:\n",
    "    - Rows represent observations (or samples, subjects, etc.) \n",
    "    - Columns represents features (or measurements, characteristics, labels, etc.)\n",
    "  "
   ]
  },
  {
   "cell_type": "markdown",
   "id": "a28ca890-7df5-4f46-8775-6c5e949a0fdc",
   "metadata": {
    "tags": []
   },
   "source": [
    "--- \n",
    "\n",
    "<a name = \"scatterplot\"></a>\n",
    "## 2. Creating a scatter plot using Matplotlib \n",
    "\n",
    "- To create plots, we usually use the Python package Matplotlib\n",
    "  - Matplotlib documentation: [here](https://matplotlib.org/)  \n",
    "  - Matplotlib cheat sheets: [here](https://matplotlib.org/cheatsheets/)\n",
    "\n",
    "\n",
    "- Note: Matplotlib is the basis of several other data visualization packages, such as: \n",
    "  - [Seaborn](https://seaborn.pydata.org/): for statistical data visualization  \n",
    "  - [Bokeh](https://bokeh.org/): with interactive widgets for Jupyter Nb\n",
    "  - [Altair](https://altair-viz.github.io/): for declarative data visualization (e.g. follows the principles of the [Grammar of Graphics](https://link.springer.com/book/10.1007/0-387-28695-0), similarly to [ggplot2](https://ggplot2.tidyverse.org/index.html) in R)"
   ]
  },
  {
   "cell_type": "markdown",
   "id": "fe3d62cb-3479-4b70-b2ef-ec52e3fa8167",
   "metadata": {},
   "source": [
    "- Import Matplotlib:  \n",
    "  *Note*: usually imports are all declared in a cell at the top of the Nb. Here, we import in various sections of the Nb for demonstrational purposes"
   ]
  },
  {
   "cell_type": "code",
   "execution_count": null,
   "id": "a814df93-d452-4946-9077-c5a95f2bf71e",
   "metadata": {},
   "outputs": [],
   "source": []
  },
  {
   "cell_type": "markdown",
   "id": "37210b8f-3fea-4467-9274-0fca44dd8882",
   "metadata": {},
   "source": [
    "- Define `x` and `y`:"
   ]
  },
  {
   "cell_type": "code",
   "execution_count": null,
   "id": "54bbc016-d13d-4dd8-a162-820c38d5d291",
   "metadata": {},
   "outputs": [],
   "source": []
  },
  {
   "cell_type": "markdown",
   "id": "91ae7858-23e5-4682-9ac6-7954b48f0e3b",
   "metadata": {},
   "source": [
    "- Create the scatter plot using `plt.scatter(x,y)`:"
   ]
  },
  {
   "cell_type": "code",
   "execution_count": null,
   "id": "e90af235-1ef5-4dd8-ab48-55adf35b8a3f",
   "metadata": {},
   "outputs": [],
   "source": []
  },
  {
   "cell_type": "markdown",
   "id": "30f71865-e02b-4650-8792-3bde50c6ee00",
   "metadata": {},
   "source": [
    "- Show plot: \n",
    "  - Remove the text above the plot with `plt.show()`\n",
    "  \n",
    "- Markers:\n",
    "  - *Color:* To change marker color, use the parameter `c` in `plt.scatter()`. Find a list of colors in Matplotlib [here](https://matplotlib.org/stable/gallery/color/named_colors.html).    \n",
    "    If you want to add transparency, use the parameter `alpha` with a value between 0 and 1 \n",
    "  - *Size*: To change marker size, use the parameter `s` in `plt.scatter()`\n",
    "  - *Shape*: To change maker shape, use the parameter `marker` in `plt.scatter()`. Find a list of marker shapes [here](https://matplotlib.org/stable/api/markers_api.html)\n",
    "  \n",
    "  \n",
    "- Axes:\n",
    "  - *Ticks*: To determine axis ticks, use `.xticks([ , , , ...])` and `.yticks([ , , , ...])`  \n",
    "  - *Limits*: To determine axis limits, use `.xlim([ , ])` and `.ylim([ , ])` \n",
    "  - *Characteristics*: To determine axis characteristics, use `plt.axis()`. Find a list of characteristics [here](https://matplotlib.org/stable/api/_as_gen/matplotlib.pyplot.axis.html)    \n",
    "    For squared axes, use `\"square\"`\n",
    "  - *Labels*: To add axis labels, use `.xlabel(\" \")` and `.ylabel(\" \")`    \n",
    "    To change font size, use the parameter `fontsize` \n",
    "  - *Grid*: To add a grid, use `plt.grid()`. To specify only *y* grid, add the parameter `axis=\"y\"`.    \n",
    "    To send the grid behind the markers, use the following commands: `axes = plt.gca()`, `axes.set_axisbelow(True)`    \n",
    "    \n",
    "- Figure: \n",
    "  - *Creating*: To create a figure to manipulate, use the command `plt.figure()` at the very beginning. Some parameters are: \n",
    "    - *Size*: To change a figure size, use the parameter `figsize` \n",
    "    - *Color*: To change a figure color, use the parameter `facecolor`\n",
    "  - *Save*: To save a figure, use the command `plt.savefig()`. To define the resolution, use the parameter `dpi`"
   ]
  },
  {
   "cell_type": "markdown",
   "id": "85d398ba-7a73-461d-b574-7868ad81c81e",
   "metadata": {},
   "source": [
    "Other properties: \n",
    "- Title:\n",
    "  - To add a figure title, use `plt.title()` \n",
    "- Legend:\n",
    "  - To add a legend:\n",
    "    - Add the parameter `label` in `plt.scatter()` \n",
    "    - Type the command `plt.legend()`. For legend properties (e.g. `loc`), see [here](https://matplotlib.org/stable/api/_as_gen/matplotlib.pyplot.legend.html)\n"
   ]
  },
  {
   "cell_type": "markdown",
   "id": "c5d3cf89-1276-42fb-9b1d-81ce518acaed",
   "metadata": {},
   "source": [
    "<a name = \"regressionline\"></a>\n",
    "\n",
    "--- \n",
    "\n",
    "## 3. Computing $r^2$ and regression coefficients\n",
    "\n",
    "- To calculate $r^2$ and the regression coefficients `m`(slope) and `b`(intercept), we use the Python package Scipy\n",
    "  - SciPy documentation [here](https://scipy.org/)"
   ]
  },
  {
   "cell_type": "markdown",
   "id": "e4780ad0-ecb2-4781-bf31-52b291675610",
   "metadata": {},
   "source": [
    "- From the `stats` module of SciPy import [linregress](https://docs.scipy.org/doc/scipy/reference/generated/scipy.stats.linregress.html):"
   ]
  },
  {
   "cell_type": "code",
   "execution_count": null,
   "id": "35145fb2-2a4d-43be-b755-778c459904f0",
   "metadata": {},
   "outputs": [],
   "source": []
  },
  {
   "cell_type": "markdown",
   "id": "6729a4e7-a0fc-4283-98aa-c3650e5a5aaf",
   "metadata": {},
   "source": [
    "- Use the `linregress(x,y)` to compute the parameters:"
   ]
  },
  {
   "cell_type": "code",
   "execution_count": null,
   "id": "08d77b58-28e1-421a-9969-45248ef47465",
   "metadata": {},
   "outputs": [],
   "source": []
  },
  {
   "cell_type": "markdown",
   "id": "af86454a-ca85-4339-9973-4484188fd335",
   "metadata": {},
   "source": [
    "- To add the regression line, we need to create the new `y` for the smallest and largest `x`:"
   ]
  },
  {
   "cell_type": "code",
   "execution_count": null,
   "id": "76995269-9c43-4a80-8fdb-eeb33a8e3ccd",
   "metadata": {},
   "outputs": [],
   "source": []
  },
  {
   "cell_type": "markdown",
   "id": "9276f04f-d0a7-4320-a02f-b20ec405c7b2",
   "metadata": {},
   "source": [
    "- Add regression line and annotation to the graph:"
   ]
  },
  {
   "cell_type": "code",
   "execution_count": null,
   "id": "887a6f9e-2eab-4c14-8674-d67b621d0ded",
   "metadata": {},
   "outputs": [],
   "source": []
  },
  {
   "cell_type": "markdown",
   "id": "6ebdc8f4-f58c-4627-b4ee-058c299b5aac",
   "metadata": {},
   "source": [
    "- Annotations:\n",
    "  - To add an annotation, use `plt.annotate()`. Find the list of parameters [here](https://matplotlib.org/stable/api/_as_gen/matplotlib.pyplot.annotate.html)  \n",
    "    - To position the text, use `xy`  \n",
    "    - For horizontal alignment, use `ha`. Possible values: `left`, `center`, `right`  \n",
    "    - For vertical alignment, use  `va`. Possible values: `top`, `center`, `bottom` \n",
    "- Plotting a line:  \n",
    "  - To plot a line, use `plt.plot()`. Find the list of parameters [here](https://matplotlib.org/stable/api/_as_gen/matplotlib.pyplot.plot.html)  \n",
    "    - For a dashed line, assign `dashed` to the parameter `linestyle` "
   ]
  },
  {
   "cell_type": "markdown",
   "id": "432dfb9c-c188-4e6e-b21e-4b767c528a7b",
   "metadata": {
    "tags": []
   },
   "source": [
    "---\n",
    "<a name=\"dependencies\"></a>\n",
    "\n",
    "## 4. Specifying code dependencies\n",
    "\n",
    "- Dependencies are software versions \n",
    "- They are fundamental for reproducibility, to avoid issues due to package updates\n",
    "- To print out dependencies, we use the Jupyter extension [watermark](https://github.com/rasbt/watermark)"
   ]
  },
  {
   "cell_type": "markdown",
   "id": "04d27355-b0c4-48ee-9686-d658e30a1ff3",
   "metadata": {},
   "source": [
    "- Install *watermark* using the command `pip install watermark` (use a terminal or a cell)"
   ]
  },
  {
   "cell_type": "markdown",
   "id": "a3f75465-04b6-432b-b1c2-40f4b1a15c5c",
   "metadata": {},
   "source": [
    "- Use the following commands to print out your code dependencies:  \n",
    "  - `%load_ext watermark`: to load the extension \n",
    "  - `%watermark`: to print out your computer characteristics  \n",
    "  - `%watermark --iversions`: to print out the versions of the used packages\n",
    "  "
   ]
  },
  {
   "cell_type": "code",
   "execution_count": null,
   "id": "912128b4-c10e-4e18-a20e-109d0b45f14d",
   "metadata": {},
   "outputs": [],
   "source": []
  },
  {
   "cell_type": "markdown",
   "id": "e3262785-ef17-4b3a-ad81-bfe776890e41",
   "metadata": {
    "tags": []
   },
   "source": [
    "---\n",
    "---\n",
    "\n",
    "<a name=\"samesamebutdifferent\"></a>\n",
    "\n",
    "## 5. More: Several ways to do the same thing...\n",
    "\n",
    "- In Python there are often redundancies because of its open source nature \n",
    "- As an example, let's see 2 ways to calculate regression and coefficient of determination  \n",
    "  [1. Using SciPy (engineering prospective)](#scipy)  \n",
    "  [2. Using Scikit-learn (machine learning prospective)](#sklearn)  "
   ]
  },
  {
   "cell_type": "markdown",
   "id": "5b67589a-3283-4999-b51c-31cc24eecf59",
   "metadata": {},
   "source": [
    "<a name=\"scipy\"></a>\n",
    "\n",
    "### 5.1 Calculating $r^2$, `m`, and `b` using SciPy"
   ]
  },
  {
   "cell_type": "markdown",
   "id": "719e7e37-3f54-4467-b9c8-ba3f82e92a2a",
   "metadata": {},
   "source": [
    "- Data preparation:"
   ]
  },
  {
   "cell_type": "code",
   "execution_count": null,
   "id": "c4cad89e-e3f9-4e5f-a438-7ad6f365afd9",
   "metadata": {},
   "outputs": [],
   "source": [
    "# all data\n",
    "x = df[\"Bone strength VOI 1\"]\n",
    "y = df[\"Bone strength VOI FB\"]\n",
    "\n",
    "# x min and max to plot regression line\n",
    "x_min = x.min()\n",
    "x_max = x.max()"
   ]
  },
  {
   "cell_type": "markdown",
   "id": "88f40b5f-f2f8-4e6e-a551-8f6369aa60f5",
   "metadata": {},
   "source": [
    "- Compute statistics:"
   ]
  },
  {
   "cell_type": "code",
   "execution_count": null,
   "id": "91ee73b5-3cac-46dc-b629-27c2e70cc140",
   "metadata": {},
   "outputs": [],
   "source": [
    "from scipy.stats import linregress\n",
    "\n",
    "# calculate regression\n",
    "result = linregress(x, y)\n",
    "\n",
    "# get parameters\n",
    "m = result.slope\n",
    "b = result.intercept\n",
    "r = result.rvalue\n",
    "r2 = r**2\n",
    "print (\"slope:\", round(m, 2))\n",
    "print (\"intercept:\", int(b))\n",
    "print (\"r2:\", round(r2, 2))\n",
    "\n",
    "# calculate new y's on the regression line\n",
    "y_min = m*x_min + b\n",
    "y_max = m*x_max + b\n",
    "print (\"y_min:\", round(y_min, 2))\n",
    "print (\"y_max:\", round(y_max, 2))"
   ]
  },
  {
   "cell_type": "markdown",
   "id": "f1bbd55e-a976-4c7c-a9d5-028ed416968d",
   "metadata": {
    "tags": []
   },
   "source": [
    "<a name=\"sklearn\"></a>\n",
    "\n",
    "### 5.2 Calculating $r^2$, `m`, and `b` using Scikit-learn"
   ]
  },
  {
   "cell_type": "markdown",
   "id": "1fe36147-ca28-400c-817f-64f3fa55cf08",
   "metadata": {},
   "source": [
    "- Data preparation:"
   ]
  },
  {
   "cell_type": "code",
   "execution_count": null,
   "id": "f98ad914-0f30-4153-9f22-2dfb84c3d992",
   "metadata": {},
   "outputs": [],
   "source": [
    "import numpy as np\n",
    "\n",
    "# transform data types\n",
    "x = df[\"Bone strength VOI 1\"].values.reshape(-1, 1) \n",
    "y = df[\"Bone strength VOI FB\"].values.reshape(-1, 1)  \n",
    "\n",
    "# x min and max to plot regression line\n",
    "x_min_max = np.array([x_min, x_max]).reshape(-1,1)"
   ]
  },
  {
   "cell_type": "code",
   "execution_count": null,
   "id": "29093aac-797a-4a1e-8213-ea5d3a4a4644",
   "metadata": {},
   "outputs": [],
   "source": [
    "import numpy as np\n",
    "from sklearn.metrics import r2_score\n",
    "from sklearn.linear_model import LinearRegression\n",
    "\n",
    "\n",
    "# calculate regression\n",
    "lr = LinearRegression()\n",
    "lr.fit(x,y)\n",
    "# get parameters\n",
    "m = lr.coef_\n",
    "b = lr.intercept_\n",
    "# make parameter scalar\n",
    "m = m[0][0]\n",
    "b = b[0]\n",
    "# calculate r2\n",
    "r2 = r2_score(x,y)\n",
    "print (\"slope:\", round(m, 2))\n",
    "print (\"intercept:\", int(b))\n",
    "print (\"r2:\", round(r2, 2))\n",
    "\n",
    "# calculate new y's on the regression line\n",
    "y_pred = lr.predict(x_min_max)\n",
    "y_min = y_pred[0][0]\n",
    "y_max = y_pred[1][0]\n",
    "print (\"y_min:\", round(y_min, 2))\n",
    "print (\"y_max:\", round(y_max, 2))"
   ]
  },
  {
   "cell_type": "markdown",
   "id": "bce03006-3d43-43e2-8e34-cd29417525f8",
   "metadata": {},
   "source": [
    "- *Note*: $r^2$ is slightly different between the two methods because it's calculated in two different ways(see [this blog](https://stackoverflow.com/questions/50123230/coefficient-of-determination-is-different-between-scikit-learn-and-scipy-librari))"
   ]
  }
 ],
 "metadata": {
  "kernelspec": {
   "display_name": "Python 3 (ipykernel)",
   "language": "python",
   "name": "python3"
  },
  "language_info": {
   "codemirror_mode": {
    "name": "ipython",
    "version": 3
   },
   "file_extension": ".py",
   "mimetype": "text/x-python",
   "name": "python",
   "nbconvert_exporter": "python",
   "pygments_lexer": "ipython3",
   "version": "3.9.7"
  }
 },
 "nbformat": 4,
 "nbformat_minor": 5
}
