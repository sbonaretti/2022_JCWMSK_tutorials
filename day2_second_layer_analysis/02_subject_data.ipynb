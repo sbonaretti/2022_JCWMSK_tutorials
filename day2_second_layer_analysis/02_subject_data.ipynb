{
 "cells": [
  {
   "cell_type": "markdown",
   "metadata": {},
   "source": [
    "# Analysis of Subject Data"
   ]
  },
  {
   "cell_type": "markdown",
   "metadata": {},
   "source": [
    "Content under Creative Commons license CC-BY-NC-SA 4.0   \n",
    "Code under GNU-GPL v3 License  \n",
    "By [Serena Bonaretti](https://sbonaretti.github.io/)\n",
    "---"
   ]
  },
  {
   "cell_type": "markdown",
   "metadata": {},
   "source": [
    "- The aim of this notebook is to calculate descriptive statistics for a group of subjects from tabular data  \n",
    "- This notebook can be attached to the *Material* paragraph of your paper"
   ]
  },
  {
   "cell_type": "markdown",
   "metadata": {},
   "source": [
    "- *Structure of the subject dataframe (i.e. table)*  \n",
    "Each *row* corresponds to a *subject*, and each *column* corresponds to a *characteristic*. E.g.:\n",
    "\n",
    "| subject_id |      age      |  gender | anatomy | laterality\n",
    "|:----------:|:-------------:|:-------:| :------:| :---------:\n",
    "| ID_01      | 66            | f       | hip     | r\n",
    "| ID_02      | 53            | m       | ankle   | l"
   ]
  },
  {
   "cell_type": "markdown",
   "metadata": {},
   "source": [
    "**What the notebook does:**\n",
    "- Reads a table containing data about subjects, such as gender, age, anatomy, anatomy laterality. Data are organized in a tabular file, which can be in `.csv` (open file format) or `.xlsx` (proprietary file format)  \n",
    "- Gets:\n",
    "  - Number of subject\n",
    "  - Average, standard deviation, max, and min age \n",
    "  - Number of subjects per gender\n",
    "  - Anatomies\n",
    "  - Number of anatomies per laterality (left/right)  \n",
    "- Prints out dependencies for reproducibility\n",
    "\n",
    "To read and query the data, it uses the python package `pandas`  "
   ]
  },
  {
   "cell_type": "markdown",
   "metadata": {},
   "source": [
    "---"
   ]
  },
  {
   "cell_type": "markdown",
   "metadata": {},
   "source": [
    "Imports:"
   ]
  },
  {
   "cell_type": "code",
   "execution_count": null,
   "metadata": {},
   "outputs": [],
   "source": []
  },
  {
   "cell_type": "markdown",
   "metadata": {},
   "source": [
    "---\n",
    "## 1. Load the data"
   ]
  },
  {
   "cell_type": "markdown",
   "metadata": {},
   "source": [
    "- Load the tabular data in the file *subects_template.csv* using the pandas function `read_csv()`:"
   ]
  },
  {
   "cell_type": "code",
   "execution_count": null,
   "metadata": {},
   "outputs": [],
   "source": []
  },
  {
   "cell_type": "markdown",
   "metadata": {},
   "source": [
    "- Print out the table. Please note that the index starts from 0:"
   ]
  },
  {
   "cell_type": "code",
   "execution_count": null,
   "metadata": {
    "scrolled": true
   },
   "outputs": [],
   "source": []
  },
  {
   "cell_type": "markdown",
   "metadata": {},
   "source": [
    "- If the table is too long, you can:\n",
    "    - Make the table scollable by right-clicking on the table, and then `Enable scolling to output`, or\n",
    "    - Show only the first five rows with the command: `df.head()`\n"
   ]
  },
  {
   "cell_type": "code",
   "execution_count": null,
   "metadata": {},
   "outputs": [],
   "source": []
  },
  {
   "cell_type": "markdown",
   "metadata": {},
   "source": [
    "## 2. Get number of subjects\n",
    "- The number of subjects coincides with the number of rows:"
   ]
  },
  {
   "cell_type": "code",
   "execution_count": null,
   "metadata": {},
   "outputs": [],
   "source": []
  },
  {
   "cell_type": "markdown",
   "metadata": {},
   "source": [
    "## 3. Age: Get average, standard deviation, max, and min \n",
    "- Calculate average, standard deviation, max, and min for the values in the column `age`)"
   ]
  },
  {
   "cell_type": "code",
   "execution_count": null,
   "metadata": {},
   "outputs": [],
   "source": []
  },
  {
   "cell_type": "markdown",
   "metadata": {},
   "source": [
    "## 4. Gender: Get number of female and male\n",
    "- Count the unique values in the column `gender` using `value_counts()`:"
   ]
  },
  {
   "cell_type": "code",
   "execution_count": null,
   "metadata": {},
   "outputs": [],
   "source": []
  },
  {
   "cell_type": "markdown",
   "metadata": {},
   "source": [
    "## 5. Anatomy: Get organ \n",
    "- Count the unique values in the column `anatomy`:"
   ]
  },
  {
   "cell_type": "code",
   "execution_count": null,
   "metadata": {},
   "outputs": [],
   "source": []
  },
  {
   "cell_type": "markdown",
   "metadata": {},
   "source": [
    "## 6. Laterality: Get number of right and left\n",
    "- Count the unique values in the column `laterality`:"
   ]
  },
  {
   "cell_type": "code",
   "execution_count": null,
   "metadata": {},
   "outputs": [],
   "source": []
  },
  {
   "cell_type": "markdown",
   "metadata": {},
   "source": [
    "--- \n",
    "## Dependencies"
   ]
  },
  {
   "cell_type": "code",
   "execution_count": null,
   "metadata": {},
   "outputs": [],
   "source": []
  }
 ],
 "metadata": {
  "kernelspec": {
   "display_name": "Python 3 (ipykernel)",
   "language": "python",
   "name": "python3"
  },
  "language_info": {
   "codemirror_mode": {
    "name": "ipython",
    "version": 3
   },
   "file_extension": ".py",
   "mimetype": "text/x-python",
   "name": "python",
   "nbconvert_exporter": "python",
   "pygments_lexer": "ipython3",
   "version": "3.9.7"
  },
  "widgets": {
   "application/vnd.jupyter.widget-state+json": {
    "state": {},
    "version_major": 2,
    "version_minor": 0
   }
  }
 },
 "nbformat": 4,
 "nbformat_minor": 4
}
