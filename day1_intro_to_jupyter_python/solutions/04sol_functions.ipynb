{
 "cells": [
  {
   "cell_type": "markdown",
   "id": "598823d8-eae9-45c0-9375-af4f65c664c1",
   "metadata": {},
   "source": [
    "# Functions\n",
    "\n",
    "By [Serena Bonaretti](https://sbonaretti.github.io/), 2022  \n",
    "Notebook license: CC-BY   \n",
    "Code license: GNU-GPL-3.0  \n",
    "\n",
    "---"
   ]
  },
  {
   "cell_type": "markdown",
   "id": "c2db9842-1ebd-4bf5-9e1d-c5b4c1343a03",
   "metadata": {},
   "source": [
    "- In this notebook you will find:   \n",
    "  [1. What is a function?](#functions)  \n",
    "  [2. Function inputs and documentation](#inputs)    \n",
    "  [3. Function outputs and documentation](#outputs)    "
   ]
  },
  {
   "cell_type": "markdown",
   "id": "359a3926-313d-441f-87e7-1223c2256a56",
   "metadata": {},
   "source": [
    "---\n",
    "\n",
    "<a name = \"functions\"></a>\n",
    "## 1. What is a function?\n",
    "\n",
    "- *Definition*: A function is a bunch of code that can be *reused* several time. It is a self-contained code that accomplishes a specific task \n",
    "- So far we have seen functions from 3 different sources:  \n",
    "  - Built-in functions: `print()`, `len()`, etc.\n",
    "  - List methods: `.append()`, `.remove()`, etc.\n",
    "  - Functions from modules: `statistics.mean()`, `statistics.stdev()`, etc."
   ]
  },
  {
   "cell_type": "markdown",
   "id": "05a37151-8c66-490d-b5cd-ac8c4c557da2",
   "metadata": {
    "tags": []
   },
   "source": [
    "---\n",
    "\n",
    "<a name = \"inputs\"></a>\n",
    "## 2. Function inputs and documentation\n",
    "\n",
    "- Example:"
   ]
  },
  {
   "cell_type": "code",
   "execution_count": 1,
   "id": "c23da527-7c79-4a8d-b747-6415fa2b7a7c",
   "metadata": {},
   "outputs": [],
   "source": [
    "def age_report (age):\n",
    "    \n",
    "    \"\"\"This function prints min, max, and mean of subjects' age\n",
    "    \n",
    "    Parameter\n",
    "    ---------\n",
    "    age: list of integers\n",
    "        a list containing the age of a study's subjects\n",
    "    par: type\n",
    "        description\n",
    "    \"\"\"\n",
    "    \n",
    "    # calculate the statistics\n",
    "    minimum = min(age)\n",
    "    maximum = max(age)\n",
    "    mean    = sum(age) / len(age)\n",
    "    \n",
    "    # print out the statistics\n",
    "    print (\"The minimum age is \" + str(minimum))\n",
    "    print (\"The maximum age is \" + str(maximum))\n",
    "    print (\"The average age is \" + str(round(mean,2)))"
   ]
  },
  {
   "cell_type": "code",
   "execution_count": 2,
   "id": "7636fc46-7cf4-490c-9302-d3796f00732b",
   "metadata": {},
   "outputs": [
    {
     "name": "stdout",
     "output_type": "stream",
     "text": [
      "Help on function age_report in module __main__:\n",
      "\n",
      "age_report(age)\n",
      "    This function prints min, max, and mean of subjects' age\n",
      "    \n",
      "    Parameter\n",
      "    ---------\n",
      "    age: list of integers\n",
      "        a list containing the age of a study's subjects\n",
      "    par: type\n",
      "        description\n",
      "\n"
     ]
    }
   ],
   "source": [
    "help (age_report)"
   ]
  },
  {
   "cell_type": "markdown",
   "id": "c0a93f53-76ca-481e-9793-f6b402e8fbb7",
   "metadata": {},
   "source": [
    "- The *header* of a functions is composed of 4 elements: \n",
    "  1. `def`: It is a keyword\n",
    "  2. `function_name`: It is the name of a function. Note that it is colored blue\n",
    "  3. (parameter_1, parameter_2, ...): Inputs of the function. They are in between round brackets and separated by commas\n",
    "  4. `:`: The colon symbol \n",
    "  \n",
    "- Function *documentation*:\n",
    "  - It is indented right below the header \n",
    "  - It is in between three pairs of double quotes `\"\"\"` and colored red. \n",
    "  - It is common to follow the Numpy documentation. See details in our [guidelines](https://jcmsk.github.io/for_contributors.html#functions) \n",
    "  \n",
    "- Function *body*:\n",
    "  - It is indented below the documentation\n"
   ]
  },
  {
   "cell_type": "markdown",
   "id": "2d99a053-f57c-4cb4-aaf7-d8265d7a5b79",
   "metadata": {},
   "source": [
    "- Given the following list:"
   ]
  },
  {
   "cell_type": "code",
   "execution_count": 3,
   "id": "15986a8a-30d8-46da-8cb3-2a4e87124a90",
   "metadata": {},
   "outputs": [],
   "source": [
    "subjects_age = [68, 50, 71, 64, 55, 60, 67, 64, 80, 73, 81]"
   ]
  },
  {
   "cell_type": "markdown",
   "id": "666a057d-40f7-4b8e-b956-83fb95af4b11",
   "metadata": {},
   "source": [
    "- Call the function:  \n",
    "  The syntax to call a function without outputs is `function_name(argument_1, argument_2, etc.)`"
   ]
  },
  {
   "cell_type": "code",
   "execution_count": 4,
   "id": "b8237957-b6d7-4fa3-9114-2e74ace39d44",
   "metadata": {},
   "outputs": [
    {
     "name": "stdout",
     "output_type": "stream",
     "text": [
      "The minimum age is 50\n",
      "The maximum age is 81\n",
      "The average age is 66.64\n"
     ]
    }
   ],
   "source": [
    "age_report(subjects_age)"
   ]
  },
  {
   "cell_type": "markdown",
   "id": "e0b91c01-fa69-494b-9779-d83391d1708e",
   "metadata": {
    "tags": []
   },
   "source": [
    "---\n",
    "\n",
    "<a name = \"outputs\"></a>\n",
    "## 3. Function outputs\n",
    "\n",
    "- Example:"
   ]
  },
  {
   "cell_type": "code",
   "execution_count": 5,
   "id": "f71c3487-e8be-41ac-bb21-e795bf3a133e",
   "metadata": {},
   "outputs": [],
   "source": [
    "def age_report (age):\n",
    "    \n",
    "    \"\"\"This function returns min, max, and mean of subjects' age\n",
    "    \n",
    "    Parameter\n",
    "    ---------\n",
    "    age: list of integers\n",
    "        a list containing the age of a study's subjects\n",
    "        \n",
    "    Returns\n",
    "    -------\n",
    "    minimum: integer\n",
    "        The minimum age\n",
    "    maximum: integer\n",
    "        The maximum age\n",
    "    mean: float\n",
    "        The average age\n",
    "    \"\"\"\n",
    "    \n",
    "    # calculate the statistics\n",
    "    minimum = min(age)\n",
    "    maximum = max(age)\n",
    "    mean    = sum(age) / len(age)\n",
    "    \n",
    "    # return the statistics\n",
    "    return minimum, maximum, mean"
   ]
  },
  {
   "cell_type": "markdown",
   "id": "bbe04800-8d3a-41af-ac21-ad2dad82c41e",
   "metadata": {},
   "source": [
    "- The keyword *return* is followed by the variables to return, separated by comma "
   ]
  },
  {
   "cell_type": "markdown",
   "id": "831d6a2c-0128-4eaf-be8e-0f82719bc6f7",
   "metadata": {},
   "source": [
    "- Given the following list:"
   ]
  },
  {
   "cell_type": "code",
   "execution_count": 6,
   "id": "2b57c6ab-b6a4-492e-9a42-af5e5a83d6b2",
   "metadata": {},
   "outputs": [],
   "source": [
    "subjects_age = [68, 50, 71, 64, 55, 60, 67, 64, 80, 73, 81]"
   ]
  },
  {
   "cell_type": "markdown",
   "id": "f31c4464-d8ce-44fd-92f4-96bfb07cb6e4",
   "metadata": {},
   "source": [
    "- Call the function using variables for the outputs:"
   ]
  },
  {
   "cell_type": "code",
   "execution_count": 7,
   "id": "52f87ebd-6e59-4844-9b0c-34310289c2e2",
   "metadata": {},
   "outputs": [
    {
     "name": "stdout",
     "output_type": "stream",
     "text": [
      "50\n"
     ]
    }
   ],
   "source": [
    "# separating output in function call\n",
    "minimum, maximum, mean = age_report(subjects_age)\n",
    "print (minimum)"
   ]
  },
  {
   "cell_type": "code",
   "execution_count": 8,
   "id": "b79e4d4d-20ee-4a8a-94d5-c1f6546c1a24",
   "metadata": {},
   "outputs": [
    {
     "name": "stdout",
     "output_type": "stream",
     "text": [
      "(50, 81, 66.63636363636364)\n",
      "50\n"
     ]
    }
   ],
   "source": [
    "# one variable in function call\n",
    "report = age_report(subjects_age)\n",
    "print (report)\n",
    "\n",
    "# slicing to get single variable\n",
    "age_min = report[0]\n",
    "print (age_min)"
   ]
  }
 ],
 "metadata": {
  "kernelspec": {
   "display_name": "Python 3 (ipykernel)",
   "language": "python",
   "name": "python3"
  },
  "language_info": {
   "codemirror_mode": {
    "name": "ipython",
    "version": 3
   },
   "file_extension": ".py",
   "mimetype": "text/x-python",
   "name": "python",
   "nbconvert_exporter": "python",
   "pygments_lexer": "ipython3",
   "version": "3.9.7"
  }
 },
 "nbformat": 4,
 "nbformat_minor": 5
}
