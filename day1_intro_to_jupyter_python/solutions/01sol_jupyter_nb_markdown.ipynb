{
 "cells": [
  {
   "cell_type": "markdown",
   "id": "2f127967-8a19-4a5c-88ca-c000d69b5c11",
   "metadata": {
    "tags": []
   },
   "source": [
    "# Jupyter Notebook, Markdown, extensions, and terminal\n",
    "\n",
    "By [Serena Bonaretti](https://sbonaretti.github.io/), 2022  \n",
    "Notebook license: CC-BY   \n",
    "Code license: GNU-GPL-3.0  \n",
    "\n",
    "---"
   ]
  },
  {
   "cell_type": "markdown",
   "id": "b02001d0-1805-4b3f-a232-d66c93ff9fa3",
   "metadata": {},
   "source": [
    "- In this notebook you will learn:   \n",
    "  [1. Manipulating cells in Jupyter Notebook](#manipulating)  \n",
    "  [2. Including narrative in Jupyter Notebook using Markdown](#markdown)  \n",
    "  [3. Adding extensions to Jupyter Notebook and use of terminal](#extensions)  \n",
    "  \n"
   ]
  },
  {
   "cell_type": "markdown",
   "id": "539f0615-6f03-4d8c-90d8-a2615c35b4e6",
   "metadata": {
    "tags": []
   },
   "source": [
    "--- \n",
    "\n",
    "<a name=\"manipulating\"></a>\n",
    "## 1. Manipulating cells in Jupyter Notebook"
   ]
  },
  {
   "cell_type": "markdown",
   "id": "2fc93824-c7fb-4a9e-8922-60762c49e358",
   "metadata": {
    "jp-MarkdownHeadingCollapsed": true,
    "tags": []
   },
   "source": [
    "### 1.1 What are cells?\n",
    "\n",
    "- Cells are the grey rectangles that constitute a Jupyter Notebook\n",
    "- In each cell, we can write code or narrative"
   ]
  },
  {
   "cell_type": "markdown",
   "id": "9fffe37f-6e20-4298-bb75-b0ca41244efd",
   "metadata": {
    "tags": []
   },
   "source": [
    "### 1.2 Adding and removing cells\n",
    "- To add a cell: \n",
    "  - Press `+` in the top bar\n",
    "  - Click on the right of the blue bar next to the cell, and then `A` for *above* or `B` for *below*\n",
    "  \n",
    "- To remove a cell:\n",
    "  - Press the scissor icon in the top bar\n",
    "  - Click on the right of the blue bar next to the cell, and then `DD` (or `X` for *cut*)"
   ]
  },
  {
   "cell_type": "code",
   "execution_count": null,
   "id": "ae1be184-2d25-4a62-8106-b0177052cbb3",
   "metadata": {},
   "outputs": [],
   "source": []
  },
  {
   "cell_type": "code",
   "execution_count": 1,
   "id": "107ac82e-d6af-4ff3-b0cf-56e7f297ed05",
   "metadata": {
    "tags": []
   },
   "outputs": [],
   "source": [
    "# add cells above and below me!"
   ]
  },
  {
   "cell_type": "code",
   "execution_count": null,
   "id": "16eb745e-309b-430f-9c50-8f42fea7e9d5",
   "metadata": {},
   "outputs": [],
   "source": []
  },
  {
   "cell_type": "code",
   "execution_count": null,
   "id": "daaccfae-ee26-4c9c-ad65-a8e2906935f9",
   "metadata": {},
   "outputs": [],
   "source": []
  },
  {
   "cell_type": "markdown",
   "id": "ac7beacc-4874-4066-b509-7072adfa479e",
   "metadata": {},
   "source": [
    "### 1.3 Copy/pasting and moving cells\n",
    "- To copy/paste a cell: \n",
    "  - Press the double paper icon (to copy) and then the clipboard icon (to paste)\n",
    "  - Click on the right of the blue bar next to the cell, and then `C` for *copy* or `V` for *paste* (without pressing *control* or *command*!)\n",
    "  \n",
    "- To move a cell:\n",
    "  - Click on the right of the blue bar next to the cell, drag and drop it "
   ]
  },
  {
   "cell_type": "code",
   "execution_count": 2,
   "id": "c4716ae1-a557-47d0-bb61-2af76372c9bf",
   "metadata": {},
   "outputs": [],
   "source": [
    "# copy/paste me!"
   ]
  },
  {
   "cell_type": "code",
   "execution_count": 3,
   "id": "82616b3c-6c97-4bb8-928a-7a66141235e8",
   "metadata": {},
   "outputs": [],
   "source": [
    "# copy/paste me!"
   ]
  },
  {
   "cell_type": "code",
   "execution_count": 4,
   "id": "ddf8a9b2-5f51-4128-9991-88b7c6eba01a",
   "metadata": {},
   "outputs": [],
   "source": [
    "# move me around!"
   ]
  },
  {
   "cell_type": "code",
   "execution_count": 5,
   "id": "0b26c9a1-291b-4bf7-8574-b274b8b280a5",
   "metadata": {},
   "outputs": [],
   "source": [
    "# copy/paste me!"
   ]
  },
  {
   "cell_type": "markdown",
   "id": "e7418e59-2553-4207-a4b7-58f63a5e4d2e",
   "metadata": {},
   "source": [
    "### 1.4 Undo/redo cell operation\n",
    "- To undo/redo a cell operation: \n",
    "  - Go to *Edit* -> *Undo cell operation* / *Redo cell operation*\n",
    "  - Click on the right of the blue bar next to the cell, then press `Z` (undo) or `shift + Z` (redo)\n"
   ]
  },
  {
   "cell_type": "code",
   "execution_count": 6,
   "id": "99f814ff-9c7b-48e3-9e26-b63981baf6b0",
   "metadata": {},
   "outputs": [],
   "source": [
    "# create a cell below me, then undo the operation, then redo the operation"
   ]
  },
  {
   "cell_type": "markdown",
   "id": "1f248ba5-e235-4c9f-a699-9c77c6e1bae8",
   "metadata": {},
   "source": [
    "### 1.5 Cell type\n",
    "\n",
    "- A cell can contain code or text. By default, a new cell contains code\n",
    "- To transform a cell into a *text* cell:\n",
    "  - Select *Markdown* from the drop-down menu above\n",
    "  - Click on the right of the blue bar next to the cell, then press `M`\n",
    "- To transform a cell into a *code* cell:\n",
    "  - Select *Code* from the drop-down menu above\n",
    "  - Click on the right of the blue bar next to the cell, then press `Y`"
   ]
  },
  {
   "cell_type": "code",
   "execution_count": 7,
   "id": "603a492b-fbb6-4aed-a540-11fddc408bca",
   "metadata": {
    "tags": []
   },
   "outputs": [],
   "source": [
    "# Transform me into a text cell"
   ]
  },
  {
   "cell_type": "markdown",
   "id": "12347a58-4aa9-439f-a2c7-6ba949542258",
   "metadata": {
    "tags": []
   },
   "source": [
    "# Transform me into a code cell"
   ]
  },
  {
   "cell_type": "markdown",
   "id": "c4553e22-6e35-408e-94bd-d81b0d7d71cb",
   "metadata": {
    "tags": []
   },
   "source": [
    "### 1.6 Running a cell\n",
    "\n",
    "- To run a cell (i.e. execute):\n",
    "  - Press the *play* icon in the top bar\n",
    "  - Press `shift + return` "
   ]
  },
  {
   "cell_type": "markdown",
   "id": "dde50f7b-3d34-4843-b472-777081f4f4a2",
   "metadata": {
    "tags": []
   },
   "source": [
    "# execute this text cell"
   ]
  },
  {
   "cell_type": "code",
   "execution_count": 8,
   "id": "3769c28b-c7e7-4d5e-a8b8-c0203398395e",
   "metadata": {},
   "outputs": [
    {
     "name": "stdout",
     "output_type": "stream",
     "text": [
      "cell executed\n"
     ]
    }
   ],
   "source": [
    "# execute this code cell\n",
    "print (\"cell executed\")"
   ]
  },
  {
   "cell_type": "markdown",
   "id": "b1494abf-4b9c-4628-a1a6-d175a0cbe3af",
   "metadata": {},
   "source": [
    "### 1.7 Others\n",
    "- To find more cell functionalities, such as *Split cell*, *Enable scrolling for outputs*, etc.:\n",
    "  - Go to *Edit*\n",
    "  - Right-click inside the cell"
   ]
  },
  {
   "cell_type": "code",
   "execution_count": 9,
   "id": "0a3dd4e0-e3bf-47f3-bc2a-95f51883ffec",
   "metadata": {},
   "outputs": [],
   "source": [
    "# Split this cell in two parts:\n",
    "# part 1"
   ]
  },
  {
   "cell_type": "code",
   "execution_count": 10,
   "id": "e061a46a-56aa-4626-9ce9-9e570a4c907f",
   "metadata": {},
   "outputs": [],
   "source": [
    "# part 2"
   ]
  },
  {
   "cell_type": "markdown",
   "id": "e2f9fa90-109f-4c10-96c2-c91e69e4c363",
   "metadata": {},
   "source": [
    "<a name=\"markdown\"></a>\n",
    "\n",
    "--- \n",
    "\n",
    "## 2. Including narrative in Jupyter Notebook using Markdown\n",
    "\n",
    "- Narrative is fundamental in a Jupyter Notebook because it allows telling a story about our code, methods, and results"
   ]
  },
  {
   "cell_type": "markdown",
   "id": "4d70fb41-8047-4930-8226-85abfa5d0535",
   "metadata": {
    "tags": []
   },
   "source": [
    "### 2.1 Text\n",
    "- Text is written in *Markdown*, which is a simplified version of HTML (and is compatible with it)!\n",
    "- Here is some Markdown syntax:"
   ]
  },
  {
   "cell_type": "markdown",
   "id": "34825603-d078-4aa3-bdd4-f2386b440ac8",
   "metadata": {
    "tags": []
   },
   "source": [
    "#### 2.1.1 Headers (titles)\n",
    " - From 1 to 6 hash in front of text"
   ]
  },
  {
   "cell_type": "code",
   "execution_count": 11,
   "id": "53bad477-fbc3-4268-8c33-f6a27d99d047",
   "metadata": {},
   "outputs": [],
   "source": [
    "# Create a text cell below and write some nested titles"
   ]
  },
  {
   "cell_type": "markdown",
   "id": "3687a374-f1c7-404a-8c39-ad7ea01eceb2",
   "metadata": {},
   "source": [
    "# title \n",
    "## smaller title\n",
    "### even smaller title"
   ]
  },
  {
   "cell_type": "markdown",
   "id": "ecb658a4-cdbb-4d5c-b133-7008b8bffa4f",
   "metadata": {
    "tags": []
   },
   "source": [
    "#### 2.1.2 Lists\n",
    "\n",
    "- Ordered list: `1.`, `1.1`, `2.`, etc.\n",
    "- Unordered list: `-`\n",
    "- When creating a sublist, indent *two spaces*  \n"
   ]
  },
  {
   "cell_type": "code",
   "execution_count": 12,
   "id": "c679503d-1826-49fb-93cf-7c471efc2f59",
   "metadata": {},
   "outputs": [],
   "source": [
    "# Create a text cell below and write an ordered list"
   ]
  },
  {
   "cell_type": "markdown",
   "id": "756dc81e-e157-4d95-a4d8-1c2b3d77ba62",
   "metadata": {
    "jp-MarkdownHeadingCollapsed": true,
    "tags": []
   },
   "source": [
    "1. first item   \n",
    "1.1 second item "
   ]
  },
  {
   "cell_type": "markdown",
   "id": "22f1d035-b762-4e68-bd7a-32bcef7efaa6",
   "metadata": {},
   "source": [
    "- first item\n",
    "- second item"
   ]
  },
  {
   "cell_type": "code",
   "execution_count": 13,
   "id": "cf8432fc-5626-4c42-afbf-214f907fd4b9",
   "metadata": {},
   "outputs": [],
   "source": [
    "# Create a text cell below and write an undordered list with sublists"
   ]
  },
  {
   "cell_type": "markdown",
   "id": "9a77b461-ba1f-4758-97d2-4c16fbefa6f9",
   "metadata": {
    "tags": []
   },
   "source": [
    "#### 2.1.3 Emphasis\n",
    "\n",
    "- To make some text *italics*, enclose the text between star symbols: `*italics*` \n",
    "- To make some text **bold**, enclose the text between two pairs of star symbols: `**bold**` \n",
    "- To make some text ***bold and italics***, enclose the text between three star symbols: `***bold and italics***` \n"
   ]
  },
  {
   "cell_type": "code",
   "execution_count": 14,
   "id": "13bc9e5b-9c3b-44bb-8b01-235321b26f1b",
   "metadata": {},
   "outputs": [],
   "source": [
    "# Create a text cell below and write some bold, italics, and bold and italics text "
   ]
  },
  {
   "cell_type": "markdown",
   "id": "ca86c160-097d-4099-ae09-0894a7e78e8c",
   "metadata": {},
   "source": [
    "*italics*  \n",
    "**bold**  \n",
    "***bold italics*** "
   ]
  },
  {
   "cell_type": "markdown",
   "id": "e229f601-bff0-4a46-842f-65e9d3c362ec",
   "metadata": {
    "tags": []
   },
   "source": [
    "### 2.1.4 Links\n",
    "- To create a link to a webpage, the markdowns syntax is `[here](webpage to link)`"
   ]
  },
  {
   "cell_type": "code",
   "execution_count": 15,
   "id": "e889e9b4-2066-4b29-ae81-c1fe7b971d64",
   "metadata": {},
   "outputs": [],
   "source": [
    "# Create a text cell below, write some text and add a link to a webpage"
   ]
  },
  {
   "cell_type": "markdown",
   "id": "dee68f49-4d62-4a9d-9c46-281a48750a68",
   "metadata": {},
   "source": [
    "click [here](https://www.markdownguide.org/basic-syntax/#emphasis)"
   ]
  },
  {
   "cell_type": "markdown",
   "id": "f108af5f-c25a-44f8-8af5-76192b7f6ee0",
   "metadata": {},
   "source": [
    "- To create a link within a Jupyter Notebook, you have to:\n",
    "  - Create the link: `[Go to paragraph 3](#par_3)`   \n",
    "  - Add the anchor: `<a name=\"par_3\"></a>` "
   ]
  },
  {
   "cell_type": "code",
   "execution_count": 16,
   "id": "16347f22-4ba5-479a-86db-52a5a9c7271f",
   "metadata": {},
   "outputs": [],
   "source": [
    "# Create two text cells below. In the first cell create the link, in the second cell create the anchor"
   ]
  },
  {
   "cell_type": "markdown",
   "id": "241b3113-9e9c-4bc3-adc9-5ba1cd3e9049",
   "metadata": {},
   "source": [
    "[Go to paragraph 3](#par_3)"
   ]
  },
  {
   "cell_type": "markdown",
   "id": "337a70f9-5cc8-4b79-97eb-7623df2cb949",
   "metadata": {},
   "source": [
    "<a name=\"par_3\"></a>\n",
    "# paragraph 3"
   ]
  },
  {
   "cell_type": "markdown",
   "id": "69cf420f-2f18-418c-af02-89cfc1316a90",
   "metadata": {
    "tags": []
   },
   "source": [
    "### 2.2 Image\n",
    "- To add an image, we can use:\n",
    "  - Markdown for no customization: `![alt](image_name.png)`\n",
    "  - HTML for customization: e.g. `<img src=\"image_name.png\" width=\"200\">` (or `height=\"100\"`)"
   ]
  },
  {
   "cell_type": "code",
   "execution_count": 17,
   "id": "05b549e7-7860-4baa-978a-643373cd82e7",
   "metadata": {},
   "outputs": [],
   "source": [
    "# Create a text cell below and add the image ./images/jupyter_env.png in markdown and in HTML"
   ]
  },
  {
   "cell_type": "markdown",
   "id": "46734c75-9e7b-4bb1-ad0c-43271c1a1ca4",
   "metadata": {},
   "source": [
    "![](./images/jupyter_env.png)"
   ]
  },
  {
   "cell_type": "markdown",
   "id": "65b06c5b-bd94-4c8c-9b0f-236c84b64624",
   "metadata": {},
   "source": [
    "<img src=\"./images/jupyter_env.png\" width=\"200\">"
   ]
  },
  {
   "cell_type": "markdown",
   "id": "3b5dd956-97f4-4766-a81a-b0d479b52ae3",
   "metadata": {
    "tags": []
   },
   "source": [
    "### 2.3 Formulas\n",
    "- Formulas can be written in latex:\n",
    "  - To add a formula inline, enclose it between single dollar signs: `$y=mx+b$` \n",
    "  - To center a formula in text, enclose it between double dollar signs: `$$y=mx+b$$` "
   ]
  },
  {
   "cell_type": "code",
   "execution_count": 18,
   "id": "f15b66de-00bc-4da8-a7e0-4b3b3d0a08a5",
   "metadata": {},
   "outputs": [],
   "source": [
    "# Create a text cell below and add write the formula y=0.2x+4.8 inline and centered"
   ]
  },
  {
   "cell_type": "markdown",
   "id": "ac8c4649-c18f-49f7-b6d7-5d80a4c77f78",
   "metadata": {},
   "source": [
    "text before $y=0.2x+4.8$ text after"
   ]
  },
  {
   "cell_type": "markdown",
   "id": "01e99bee-a71a-444d-9eed-de60f9fcf67f",
   "metadata": {},
   "source": [
    "text before $$y=0.2x+4.8$$ text after"
   ]
  },
  {
   "cell_type": "markdown",
   "id": "e3728bd9-a03c-43ba-ba4e-99b896ffc7d3",
   "metadata": {
    "tags": []
   },
   "source": [
    "### 2.4 More\n",
    "\n",
    "- A complete guide to Markdown is at [markdownguide.org](https://www.markdownguide.org/) (see *Basic syntax*, *Extended syntax*, and *Hacks*)\n",
    "- *Note*: Markdown is largely used also on GitHub (readme.md files, issues, discussions, etc.)"
   ]
  },
  {
   "cell_type": "markdown",
   "id": "8f78a646-d326-418f-bc3c-847145803bfc",
   "metadata": {},
   "source": [
    "<a name=\"extensions\"></a>\n",
    "\n",
    "--- \n",
    "\n",
    "## 3. Adding extensions to Jupyter Notebook and other tricks\n",
    "\n",
    "- Extensions are additional functionalities for Jupyter Notebook \n",
    "- Find a list of extensions [here](https://jupyter-contrib-nbextensions.readthedocs.io/en/latest/nbextensions.html). Some useful ones are:\n",
    "  - [spellchecker](https://jupyter-contrib-nbextensions.readthedocs.io/en/latest/nbextensions/spellchecker/README.html), which does the spell check of markdown cells\n",
    "  - [export embedded HTML](https://jupyter-contrib-nbextensions.readthedocs.io/en/latest/nbextensions/spellchecker/README.html), which allows embedding figures when saving a JNb as an HTML file  \n",
    "- To [install](https://jupyter-contrib-nbextensions.readthedocs.io/en/latest/install.html) the extensions:\n",
    "  - Open the terminal: *File* -> *New* -> *terminal* \n",
    "  - Run the following command: `pip install jupyter_contrib_nbextensions`"
   ]
  },
  {
   "cell_type": "markdown",
   "id": "aa3065fb-33c3-439b-b687-88ebca17c501",
   "metadata": {},
   "source": [
    "### Other useful things to do in a terminal: *pip* \n",
    "\n",
    "- Python is enriched by a large amount of packages (e.g. pandas, numpy, matplotlib, ITK, etc.)\n",
    "- To manage packages we use [*pip*](https://pypi.org/)\n",
    "\n",
    "\n",
    "- In the terminal:\n",
    "    - Check what Python packages are installed on your machine with the command `pip list`\n",
    "    - Check the version of one specific package with the command `pip show name_of_package`  \n",
    "    - Note: To install a package, we use `pip install name_of_package` \n",
    "    \n",
    "\n",
    "\n",
    "- Note: another package management system is [*conda*](https://docs.conda.io/en/latest/)"
   ]
  },
  {
   "cell_type": "markdown",
   "id": "050c30f3-b4b1-4db4-831f-6dbeba840ee7",
   "metadata": {
    "tags": []
   },
   "source": [
    "### Using a cell as a terminal\n",
    "\n",
    "- Instead of opening the terminal in a separate window, you can use a code cell as a terminal by adding an exclamation mark `!` at the beginning of the line of code"
   ]
  },
  {
   "cell_type": "markdown",
   "id": "45add15d-238e-47c4-8bf7-3eee8db7ad43",
   "metadata": {
    "tags": []
   },
   "source": [
    "- Use the following cell as a terminal, and write the commands you previously typed in the terminal:"
   ]
  },
  {
   "cell_type": "code",
   "execution_count": 19,
   "id": "0cbb96b9-34ac-4dfb-a69e-2b92fe250b4b",
   "metadata": {},
   "outputs": [
    {
     "name": "stdout",
     "output_type": "stream",
     "text": [
      "Name: numpy\n",
      "Version: 1.20.3\n",
      "Summary: NumPy is the fundamental package for array computing with Python.\n",
      "Home-page: https://www.numpy.org\n",
      "Author: Travis E. Oliphant et al.\n",
      "Author-email: \n",
      "License: BSD\n",
      "Location: /Users/serenabonaretti/opt/anaconda3/lib/python3.9/site-packages\n",
      "Requires: \n",
      "Required-by: tifffile, tables, statsmodels, seaborn, scipy, scikit-learn, scikit-image, PyWavelets, pykneer, pyerfa, patsy, pandas, numexpr, numba, mkl-random, mkl-fft, matplotlib, itkwidgets, itk, itk-core, ipympl, ipydatawidgets, imageio, imagecodecs, h5py, daal4py, Bottleneck, bokeh, bkcharts, astropy\n"
     ]
    }
   ],
   "source": [
    "! pip show numpy"
   ]
  }
 ],
 "metadata": {
  "kernelspec": {
   "display_name": "Python 3 (ipykernel)",
   "language": "python",
   "name": "python3"
  },
  "language_info": {
   "codemirror_mode": {
    "name": "ipython",
    "version": 3
   },
   "file_extension": ".py",
   "mimetype": "text/x-python",
   "name": "python",
   "nbconvert_exporter": "python",
   "pygments_lexer": "ipython3",
   "version": "3.9.7"
  }
 },
 "nbformat": 4,
 "nbformat_minor": 5
}
