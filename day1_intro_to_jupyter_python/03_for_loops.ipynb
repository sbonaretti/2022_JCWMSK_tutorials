{
 "cells": [
  {
   "cell_type": "markdown",
   "id": "6760ee27-53d9-4c16-953a-754a035370b7",
   "metadata": {},
   "source": [
    "# For loops\n",
    "\n",
    "By [Serena Bonaretti](https://sbonaretti.github.io/), 2022  \n",
    "Notebook license: CC-BY   \n",
    "Code license: GNU-GPL-3.0  \n",
    "\n",
    "---"
   ]
  },
  {
   "cell_type": "markdown",
   "id": "2b27f6d2-8460-410e-aed7-124c56cacbcc",
   "metadata": {},
   "source": [
    "- In this notebook you will find:   \n",
    "  [1. What is a for loop?](#forloop)  \n",
    "  [2. The three types of for loop with lists](#forlists)  "
   ]
  },
  {
   "cell_type": "markdown",
   "id": "4bb9b5f3-bbe0-4ea4-935b-e41d828cc431",
   "metadata": {
    "tags": []
   },
   "source": [
    "---\n",
    "\n",
    "<a name = \"forloop\"></a>\n",
    "## 1. What is a for loop?\n",
    "\n",
    "- *Definition*: A for loop is the repetition of a bunch of commands for a determined number of times"
   ]
  },
  {
   "cell_type": "code",
   "execution_count": null,
   "id": "b9d435d6-fce5-4504-a79c-2fc2654aab13",
   "metadata": {},
   "outputs": [],
   "source": [
    "for i in range (0,3):\n",
    "    print (\"Loop number:\", i)"
   ]
  },
  {
   "cell_type": "markdown",
   "id": "a91d3c0c-9e7c-4047-bc76-65002112bec3",
   "metadata": {},
   "source": [
    "- The *header* of a for loop is composed of 5 elements: \n",
    "  1. `for`: it is a keyword (in JNb keywords are in bold green)\n",
    "  2. `i`: a variable named *i* (abbreviation of *index*). It is used as a counter, to keep track of the number of the loop Python is currently executing. \n",
    "  3. `in`: it is a membership operator, that it, it checks if a variable is in a list  \n",
    "  4. `range(start, stop, step)`: a Python built-in function that creates a list of numbers that go from the start to the stop (-1)\n",
    "  5. `:`: the colon symbol  \n",
    "  \n",
    "- The *body* of the loop is composed of lines of code that are indented of 4 spaces or 1 tab"
   ]
  },
  {
   "cell_type": "markdown",
   "id": "a4c3344d-0023-4d5d-a307-b03af599a52b",
   "metadata": {
    "tags": []
   },
   "source": [
    "---\n",
    "\n",
    "<a name = \"forlist\"></a>\n",
    "## 2. The three types of for loop with lists\n",
    "\n",
    "- When used to browse the elements of a list, the for loop can be of at list 3 types"
   ]
  },
  {
   "cell_type": "markdown",
   "id": "cd800055-c330-48f4-b276-d7470798ae99",
   "metadata": {
    "tags": []
   },
   "source": [
    "### 2.1 For loop through indices\n",
    "\n",
    "- It browses the *positions* of the elements in a list, and it extracts the elements by slicing  \n",
    "\n",
    "- Given the following list: "
   ]
  },
  {
   "cell_type": "code",
   "execution_count": null,
   "id": "5fe3b1cd-a569-4273-98b1-c207e747b568",
   "metadata": {},
   "outputs": [],
   "source": [
    "organs = [\"bone\", \"cartilage\", \"muscle\", \"tendon\", \"ligament\"]"
   ]
  },
  {
   "cell_type": "markdown",
   "id": "16f1a923-38ac-4fe6-bc15-0dafa31db4d4",
   "metadata": {},
   "source": [
    "- Print out each element of the list and its position (e.g. *The element in position 0 is bone, The element in position 1 is cartilage, etc.*):"
   ]
  },
  {
   "cell_type": "code",
   "execution_count": null,
   "id": "a8338d11-f67d-485d-ab70-c827c8afdd34",
   "metadata": {},
   "outputs": [],
   "source": []
  },
  {
   "cell_type": "markdown",
   "id": "7d38133d-845c-4329-89d7-f5fd2f341dea",
   "metadata": {},
   "source": [
    "- Print out the length of each list element (e.g. *The length of the word bone is 4, The length of the word cartilage is 9, etc.*):"
   ]
  },
  {
   "cell_type": "code",
   "execution_count": null,
   "id": "eaa792aa-724b-47d2-9eb3-d02e8fedf7f1",
   "metadata": {},
   "outputs": [],
   "source": []
  },
  {
   "cell_type": "markdown",
   "id": "1f1745bb-40f6-481a-94cd-69fe59c3b6bc",
   "metadata": {
    "tags": []
   },
   "source": [
    "### 2.2 For loop through values\n",
    "\n",
    "- It browses the *elements* of a list\n",
    "- The syntax is `for singular_variable_name in plural_variable_name`\n",
    "\n",
    "\n",
    "- Print out the elements of the list `organs` one by one: "
   ]
  },
  {
   "cell_type": "code",
   "execution_count": null,
   "id": "34e43acc-cc63-4ffe-9c8d-1cfa3484a638",
   "metadata": {},
   "outputs": [],
   "source": []
  },
  {
   "cell_type": "markdown",
   "id": "59467331-350e-40b9-a5b3-ed1a62f84c9d",
   "metadata": {},
   "source": [
    "- Given the following list:"
   ]
  },
  {
   "cell_type": "code",
   "execution_count": null,
   "id": "2ea06e44-0914-438b-b9ac-0017c134db88",
   "metadata": {},
   "outputs": [],
   "source": [
    "file_names = [\"3300.isq\", \"3301.isq\", \"3302.isq\"]"
   ]
  },
  {
   "cell_type": "markdown",
   "id": "5c439e02-efd9-45ea-a541-c3c6422d39c6",
   "metadata": {},
   "source": [
    "- Print the file names one by one:"
   ]
  },
  {
   "cell_type": "code",
   "execution_count": null,
   "id": "005add72-07e9-4d96-b91b-b4fde59cf536",
   "metadata": {},
   "outputs": [],
   "source": []
  },
  {
   "cell_type": "markdown",
   "id": "caf59ef9-0b3d-4df2-9db8-9737072ec33d",
   "metadata": {
    "tags": []
   },
   "source": [
    "### 2.3 For loop through indices and values\n",
    "\n",
    "- It browses the *elements* of a list and their indices simultaneously\n",
    "- The syntax is usually `for i, singular_variable_name in enumerate(plural_variable_name)`\n",
    "\n",
    "\n",
    "- Print out the elements of the list `organs` one by one and their positions: "
   ]
  },
  {
   "cell_type": "code",
   "execution_count": null,
   "id": "90d285a1-8c18-41e1-82b6-c4f302ba96c6",
   "metadata": {},
   "outputs": [],
   "source": []
  },
  {
   "cell_type": "markdown",
   "id": "f4cd0d97-e67c-4bbb-8ab1-1d1a434dca9a",
   "metadata": {},
   "source": [
    "- Print out the elements of the list `file_names` one by one and their positions:"
   ]
  },
  {
   "cell_type": "code",
   "execution_count": null,
   "id": "d17d9dd5-6f22-41ac-bfa8-6fa6d015e95f",
   "metadata": {},
   "outputs": [],
   "source": []
  }
 ],
 "metadata": {
  "kernelspec": {
   "display_name": "Python 3 (ipykernel)",
   "language": "python",
   "name": "python3"
  },
  "language_info": {
   "codemirror_mode": {
    "name": "ipython",
    "version": 3
   },
   "file_extension": ".py",
   "mimetype": "text/x-python",
   "name": "python",
   "nbconvert_exporter": "python",
   "pygments_lexer": "ipython3",
   "version": "3.9.7"
  }
 },
 "nbformat": 4,
 "nbformat_minor": 5
}
