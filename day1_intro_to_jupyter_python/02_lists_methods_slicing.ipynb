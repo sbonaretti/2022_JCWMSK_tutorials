{
 "cells": [
  {
   "cell_type": "markdown",
   "id": "67555d33-8740-4437-8cfa-1ed359a367de",
   "metadata": {},
   "source": [
    "# List methods, list slicing, and Python built-in functions\n",
    "\n",
    "By [Serena Bonaretti](https://sbonaretti.github.io/), 2022  \n",
    "Notebook license: CC-BY   \n",
    "Code license: GNU-GPL-3.0  \n",
    "\n",
    "---"
   ]
  },
  {
   "cell_type": "markdown",
   "id": "60bd4346-c4fd-4cd6-82ef-e73dfb2edd9e",
   "metadata": {},
   "source": [
    "- In this notebook you will find:   \n",
    "  [1. Python data types](#datatypes)  \n",
    "  [2. What are lists?](#lists)  \n",
    "  [3. List methods](#methods)  \n",
    "  [4. List slicing](#slicing)  \n",
    "  [5. Python built-in functions and modules conveniently used with lists](#builtin)  \n",
    "  [6. Why are lists important?](#important)"
   ]
  },
  {
   "cell_type": "markdown",
   "id": "7027c120-ddc4-4383-a043-57cbd60b3bae",
   "metadata": {
    "tags": []
   },
   "source": [
    "---\n",
    "\n",
    "<a name = \"datatype\"></a>\n",
    "## 1. Python data types\n",
    "\n",
    "- Data *types* are a way to organize data (number, text, etc.) to facilitate computational operations  \n",
    "- In Python there are several data types:\n",
    "  - List\n",
    "  - String\n",
    "  - Integer, float \n",
    "  - Dictionary\n",
    "  - Boolean\n",
    "  - etc."
   ]
  },
  {
   "cell_type": "markdown",
   "id": "c75db1a2-edd0-4a3e-a60a-9f7ee6581579",
   "metadata": {
    "tags": []
   },
   "source": [
    "---\n",
    "\n",
    "<a name = \"lists\"></a>\n",
    "## 2. What are lists?  \n",
    "\n",
    "- Lists are a sequence of data, separated by commas and in between square brackets, like this: "
   ]
  },
  {
   "cell_type": "code",
   "execution_count": null,
   "id": "3222c20f-0795-4e87-9a71-1d2d51e43637",
   "metadata": {},
   "outputs": [],
   "source": [
    "mixed_list = [1, 4.0, \"hello\", [1,2,3]]\n",
    "print (mixed_list)"
   ]
  },
  {
   "cell_type": "markdown",
   "id": "4121de28-f6c9-49da-bca1-f3f5100b8298",
   "metadata": {},
   "source": [
    "- In other programming languages, lists are called *arrays* or *vectors*"
   ]
  },
  {
   "cell_type": "markdown",
   "id": "abb48d7c-278f-4b70-8755-df32cc411810",
   "metadata": {},
   "source": [
    "- *Note*: Code colors in Jupyter Nb:\n",
    "  - Black: variables (e.g. `mixed_list`)\n",
    "  - Red: strings (e.g. ``\"hello\"``)\n",
    "  - Green: numbers / built-in functions (e.g. `1`, `print()`)  \n",
    "  - Purple: symbols\n"
   ]
  },
  {
   "cell_type": "markdown",
   "id": "2a277787-6b40-451e-9ccf-4f7622bb1140",
   "metadata": {
    "tags": []
   },
   "source": [
    "---\n",
    "\n",
    "<a name = \"methods\"></a>\n",
    "## 3. List methods"
   ]
  },
  {
   "cell_type": "markdown",
   "id": "76ba386b-0dc3-465a-b159-5fd3e76c03bd",
   "metadata": {
    "tags": []
   },
   "source": [
    "### 3.1 What are methods?\n",
    "\n",
    "- In Python, data types are built following the rules of object oriented programming \n",
    "- In other words, variables (except numbers) have some *methods* (i.e. functions) used to modify them \n",
    "- The syntax of methods is: `variable.method(argument)` \n",
    "- In JNb, methods are colored blue"
   ]
  },
  {
   "cell_type": "markdown",
   "id": "a47a07eb-ad7c-44f6-a484-55717c1e9715",
   "metadata": {
    "tags": []
   },
   "source": [
    "### 3.2 Adding elements to a list\n",
    "\n",
    "- To add elements to a list, we can use two methods: `.append()` and `.insert()` \n",
    "- Given the following list:"
   ]
  },
  {
   "cell_type": "code",
   "execution_count": null,
   "id": "0102fbf8-b8a6-4a21-bb98-c38508a40e8a",
   "metadata": {},
   "outputs": [],
   "source": [
    "imaging = [\"computed tomography\", \"ultrasound\"]"
   ]
  },
  {
   "cell_type": "markdown",
   "id": "dd66d141-3b5d-41fe-80e9-b081485ee899",
   "metadata": {},
   "source": [
    "- Add the string `\"magnetic resonance\"` *at the end* of the list using `list.append(new_element)`:\n",
    "   "
   ]
  },
  {
   "cell_type": "code",
   "execution_count": null,
   "id": "5cb72226-303a-4e99-91ad-1f285801e3e1",
   "metadata": {},
   "outputs": [],
   "source": []
  },
  {
   "cell_type": "markdown",
   "id": "30bdb7fd-9603-415c-a9fd-a46b840b2afb",
   "metadata": {},
   "source": [
    "- Add the string `\"HR-pQCT\"` *in position 1* using `list.insert(position, new_element)`:   \n",
    "  *Note*: In Python, counting starts from 0\n",
    "   "
   ]
  },
  {
   "cell_type": "code",
   "execution_count": null,
   "id": "174040ff-6815-44f7-b0c2-00d9a23d3bb4",
   "metadata": {},
   "outputs": [],
   "source": []
  },
  {
   "cell_type": "markdown",
   "id": "9a282604-2c8a-4f75-901c-85420bfb5c2f",
   "metadata": {
    "tags": []
   },
   "source": [
    "### 3.3 Removing elements from a list\n",
    "\n",
    "- To remove elements from a list, we can use two methods: `.remove()` and `.pop()` \n",
    "- Remove the string \"ultrasound\" using `list.remove(element_to_remove)`:"
   ]
  },
  {
   "cell_type": "code",
   "execution_count": null,
   "id": "70c0daef-aa1d-4f90-881f-ddd7f46f330b",
   "metadata": {},
   "outputs": [],
   "source": []
  },
  {
   "cell_type": "markdown",
   "id": "6fd18b0a-e8bb-4213-93fd-fd0afde20801",
   "metadata": {},
   "source": [
    "- Remove the string in position 2 using `list.pop(element_position)`:"
   ]
  },
  {
   "cell_type": "code",
   "execution_count": null,
   "id": "cf8a24cb-f001-4e13-8cb7-94df979c2af3",
   "metadata": {},
   "outputs": [],
   "source": []
  },
  {
   "cell_type": "markdown",
   "id": "32158688-228d-414b-b6a7-2e3671a8a7d8",
   "metadata": {},
   "source": [
    "### 3.4 Other list methods\n",
    "\n",
    "- Lists have [11 methods](https://www.w3schools.com/python/python_lists_methods.asp)  \n",
    "\n",
    "- Given the following list:"
   ]
  },
  {
   "cell_type": "code",
   "execution_count": null,
   "id": "99a77a44-35b9-4b8c-bfed-9bcc72782a82",
   "metadata": {},
   "outputs": [],
   "source": [
    "ethnicity = [\"Asian\", \"Latinx\", \"Caucasian\", \"Asian\", \"Asian\", \"Black\", \"Asian\", \"Asian\"]"
   ]
  },
  {
   "cell_type": "markdown",
   "id": "de048691-d6f5-42cf-8ca3-fcb18bccd38d",
   "metadata": {},
   "source": [
    "- How many subjects are \"Asian\"? Use `.count()`"
   ]
  },
  {
   "cell_type": "code",
   "execution_count": null,
   "id": "33ea335b-1094-4f15-b855-a71736fa3a87",
   "metadata": {},
   "outputs": [],
   "source": []
  },
  {
   "cell_type": "markdown",
   "id": "7eb9a52f-c515-4989-be27-b0fc064c9be9",
   "metadata": {},
   "source": [
    "- Sort the list in alphabetical order. What method do you use?"
   ]
  },
  {
   "cell_type": "code",
   "execution_count": null,
   "id": "2d841acd-31cb-422f-9e9d-90cca2ba7bb8",
   "metadata": {},
   "outputs": [],
   "source": []
  },
  {
   "cell_type": "markdown",
   "id": "3157055a-4225-4f83-869a-c2c199552647",
   "metadata": {
    "tags": []
   },
   "source": [
    "---\n",
    "\n",
    "<a name = \"slicing\"></a>\n",
    "## 4. List slicing\n",
    "\n",
    "- Slicing means extracting one or more elements from a list (like you extract a slice of cake when you slice it!)  \n",
    "- Slicing is based on element *position*"
   ]
  },
  {
   "cell_type": "markdown",
   "id": "2ccab8fd-1d8f-4f35-9fb9-37d984e3c67f",
   "metadata": {},
   "source": [
    "## 4.1 Slicing one single elements  \n",
    "\n",
    "- To slice one single element, the syntax is: `list_name[element_position]`\n",
    "\n",
    "- Given the following list:"
   ]
  },
  {
   "cell_type": "code",
   "execution_count": null,
   "id": "f657867a-83b9-47e4-9e74-e105442e69ae",
   "metadata": {},
   "outputs": [],
   "source": [
    "joints = [\"shoulder\", \"hip\", \"elbow\", \"knee\", \"wrist\", \"ankle\"]"
   ]
  },
  {
   "cell_type": "markdown",
   "id": "3d451ca6-05cf-4366-b405-bb1a9d76fb7e",
   "metadata": {},
   "source": [
    "- Extract `\"hip\"`:"
   ]
  },
  {
   "cell_type": "code",
   "execution_count": null,
   "id": "11a3ce78-efb2-47d6-8e23-de5e95597f7f",
   "metadata": {},
   "outputs": [],
   "source": []
  },
  {
   "cell_type": "markdown",
   "id": "3c9d975b-2142-474b-9c88-70ae65bfc3aa",
   "metadata": {},
   "source": [
    "- Extract `\"wrist\"`:"
   ]
  },
  {
   "cell_type": "code",
   "execution_count": null,
   "id": "37139def-db2c-46dd-a015-587b508c048d",
   "metadata": {},
   "outputs": [],
   "source": []
  },
  {
   "cell_type": "markdown",
   "id": "4b4bec6f-2f7b-4794-aa4a-28f36cb00656",
   "metadata": {
    "tags": []
   },
   "source": [
    "## 4.2 Slicing consecutive elements\n",
    "\n",
    "- To slice several consecutive elements, the syntax is: `list_name[start:stop]`\n",
    "  - *Note*: The `stop` follows the *plus one* rule\n",
    "\n",
    "\n",
    "- Slice `\"hip\"` and `\"elbow\"`:"
   ]
  },
  {
   "cell_type": "code",
   "execution_count": null,
   "id": "603b5d78-e634-489a-8613-22c19773b11a",
   "metadata": {},
   "outputs": [],
   "source": []
  },
  {
   "cell_type": "markdown",
   "id": "9de4f5a8-ad2a-4169-862e-74221c060e84",
   "metadata": {},
   "source": [
    "- Slice `\"shoulder\"` and `\"hip\"`:  \n",
    "  *Note*: When the `start` is `0`, it can be omitted"
   ]
  },
  {
   "cell_type": "code",
   "execution_count": null,
   "id": "8a0b2947-b90f-4575-afb3-912fb078a12f",
   "metadata": {},
   "outputs": [],
   "source": []
  },
  {
   "cell_type": "markdown",
   "id": "090dcbd5-310f-44a1-8ffb-6f2f5392c171",
   "metadata": {},
   "source": [
    "- Slice `\"wrist\"` and `\"ankle\"`:  \n",
    "  *Note*: When the `stop` is the *last* element, it can be omitted"
   ]
  },
  {
   "cell_type": "code",
   "execution_count": null,
   "id": "94c611f2-c129-4801-bb86-3d5053ab1328",
   "metadata": {},
   "outputs": [],
   "source": []
  },
  {
   "cell_type": "markdown",
   "id": "cd97f5fc-4109-48d5-a8ec-9de9992fc72b",
   "metadata": {
    "tags": []
   },
   "source": [
    "## 4.3 Slicing alternate elements\n",
    "\n",
    "- To slice several alternate elements, the syntax is: `list_name[start:stop:step]`\n",
    "\n",
    "- Slice the arm joints:"
   ]
  },
  {
   "cell_type": "code",
   "execution_count": null,
   "id": "62417609-256f-4cc6-bc5a-62e1a998a529",
   "metadata": {},
   "outputs": [],
   "source": []
  },
  {
   "cell_type": "markdown",
   "id": "8b59bdd8-110e-4278-b2fe-5bce3011ec92",
   "metadata": {
    "tags": []
   },
   "source": [
    "## 4.4 Slicing using negative indices\n",
    "\n",
    "- We use negative indices when considering element positions from right to left \n",
    "- This is useful in at least two cases: \n",
    "\n",
    "1. Slice the *last* element of a list:"
   ]
  },
  {
   "cell_type": "code",
   "execution_count": null,
   "id": "150a2f11-808e-4231-a9c8-347e7038cc11",
   "metadata": {},
   "outputs": [],
   "source": []
  },
  {
   "cell_type": "markdown",
   "id": "98f5107e-f937-4e2c-9bde-3613e276bda3",
   "metadata": {},
   "source": [
    "2. Invert a list:"
   ]
  },
  {
   "cell_type": "code",
   "execution_count": null,
   "id": "b2a61ae8-7424-40fb-aa6c-2fb1233ad3c3",
   "metadata": {},
   "outputs": [],
   "source": []
  },
  {
   "cell_type": "markdown",
   "id": "ad9f47e1-242b-4ea6-9698-86c385ede911",
   "metadata": {
    "tags": []
   },
   "source": [
    "## 4.5 Why is slicing important?\n",
    "\n",
    "- It can be an alternative to using methods \n",
    "- It is used in for loops (see next notebook)\n",
    "- It makes coding much faster, for example when substituting an element in a list, like in the following example:"
   ]
  },
  {
   "cell_type": "code",
   "execution_count": null,
   "id": "0af24e09-3d06-467a-a484-f2416b219a82",
   "metadata": {},
   "outputs": [],
   "source": [
    "# given the following list\n",
    "joints = [\"shoulderrrrrrr\", \"hip\", \"elbow\", \"knee\", \"wrist\", \"ankle\"]\n",
    "\n",
    "# replace \"shoulderrrrrrr\" with \"shoulder\" using list methods\n",
    "joints.pop(0)\n",
    "joints.insert(0, \"shoulder\") \n",
    "print (joints)\n",
    "\n",
    "# given the same list (repeated because it got corrected right above)\n",
    "joints = [\"shoulderrrrrrr\", \"hip\", \"elbow\", \"knee\", \"wrist\", \"ankle\"]\n",
    "\n",
    "# replace \"shoulderrrrrrr\" with \"shoulder\" using slicing\n",
    "joints[0] = \"shoulder\"\n",
    "print (joints)"
   ]
  },
  {
   "cell_type": "markdown",
   "id": "94e2f324-7f8d-40ca-9c09-01c5265c3afd",
   "metadata": {
    "tags": []
   },
   "source": [
    "---\n",
    "\n",
    "<a name = \"builtin\"></a>\n",
    "## 5. Python built-in functions and modules conveniently used with lists\n",
    "\n",
    "### 5.1 Python built-in functions\n",
    "\n",
    "- Python has several [built-in functions](https://www.w3schools.com/python/python_ref_functions.asp)  \n",
    "- Built-in functions can be used with any data type, not only lists! \n",
    "- The syntax of built-in functions is `function_name(argument)`\n",
    "\n",
    "\n",
    "- Given the following list, containing subjects' age:"
   ]
  },
  {
   "cell_type": "code",
   "execution_count": null,
   "id": "add18fb2-7ddb-40d8-94ae-a5302b2e8b01",
   "metadata": {},
   "outputs": [],
   "source": [
    "age = [68, 50, 71, 64, 55, 60, 67, 64, 80, 73, 81]"
   ]
  },
  {
   "cell_type": "markdown",
   "id": "aab9425a-2de5-47a2-8e5d-e5135bd25f7f",
   "metadata": {},
   "source": [
    "- How many subjects are there? Use `len()`"
   ]
  },
  {
   "cell_type": "code",
   "execution_count": null,
   "id": "5fe65f25-832a-4a57-88d4-9e201f902d83",
   "metadata": {},
   "outputs": [],
   "source": []
  },
  {
   "cell_type": "markdown",
   "id": "3013412d-4e6b-4671-865c-19ca2e34063c",
   "metadata": {},
   "source": [
    "- What is the minimum age? Use `min()`"
   ]
  },
  {
   "cell_type": "code",
   "execution_count": null,
   "id": "7230ce5f-635f-4e74-95f7-e7ec7fd54aab",
   "metadata": {},
   "outputs": [],
   "source": []
  },
  {
   "cell_type": "markdown",
   "id": "57d07204-8547-4c00-839b-9a8acb761c21",
   "metadata": {},
   "source": [
    "- What is the maximum age? Use `max()`"
   ]
  },
  {
   "cell_type": "code",
   "execution_count": null,
   "id": "e1d5cc99-82a0-4638-b95f-8d2cf0a6978d",
   "metadata": {},
   "outputs": [],
   "source": []
  },
  {
   "cell_type": "markdown",
   "id": "99d14662-01ec-407f-8eda-65d09c2dde16",
   "metadata": {},
   "source": [
    "- What is the average age? Use `sum()` and `len()`"
   ]
  },
  {
   "cell_type": "code",
   "execution_count": null,
   "id": "a007ea6d-d9b1-4dd3-bd24-d669e867c468",
   "metadata": {},
   "outputs": [],
   "source": []
  },
  {
   "cell_type": "markdown",
   "id": "c4c102e8-111f-4cef-ba26-1f0dd372637a",
   "metadata": {},
   "source": [
    "### 5.2 Python modules\n",
    "\n",
    "- Python modules are collections of functions conveniently grouped by topic\n",
    "    - In the back, a module corresponds to one *.py* file, and a package is a collection of modules (i.e. a collection of *.py* files)\n",
    "- They behave the same way as a Python package: \n",
    "  - Modules must be imported using the command `import module_name`. Usually all imports are at the beginning of a notebook in one single cell  \n",
    "  - To call a function from a module the syntax is `module_name.function_name(arguments)`"
   ]
  },
  {
   "cell_type": "markdown",
   "id": "b73b225b-7246-4f8f-9f9b-1c3a7f1d2405",
   "metadata": {},
   "source": [
    "- Calculate the average age using the function `mean()` from the module [statistics](https://docs.python.org/3/library/statistics.html):\n",
    "  - Import the module `statistics` \n",
    "  - Use the function `statistics.mean(list_name)`:"
   ]
  },
  {
   "cell_type": "code",
   "execution_count": null,
   "id": "b56ecb77-f47e-46c5-b9b9-ba65d632724a",
   "metadata": {},
   "outputs": [],
   "source": []
  },
  {
   "cell_type": "markdown",
   "id": "8cf98ee6-4982-4bd2-8daf-ce3d084098ab",
   "metadata": {},
   "source": [
    "- Calculate the age standard deviation using the function `stdev()` from the module `statistics`:"
   ]
  },
  {
   "cell_type": "code",
   "execution_count": null,
   "id": "49b11c0b-9f92-4ddb-b463-57e35c2f08fc",
   "metadata": {},
   "outputs": [],
   "source": []
  },
  {
   "cell_type": "markdown",
   "id": "c2662ef5-f49d-4fcc-b0b9-c5f26bc61f06",
   "metadata": {
    "tags": []
   },
   "source": [
    "---\n",
    "\n",
    "<a name = \"important\"></a>\n",
    "## 6. Why are lists important?\n",
    "\n",
    "- They might be the most used data type in Python\n",
    "- They are the basics for major packages:\n",
    "  - [Numpy](https://numpy.org/): Package for linear algebra (somehow similar to Matlab)\n",
    "  - [Pandas](https://pandas.pydata.org/): Package for manipulation of tabular data\n",
    "\n"
   ]
  }
 ],
 "metadata": {
  "kernelspec": {
   "display_name": "Python 3 (ipykernel)",
   "language": "python",
   "name": "python3"
  },
  "language_info": {
   "codemirror_mode": {
    "name": "ipython",
    "version": 3
   },
   "file_extension": ".py",
   "mimetype": "text/x-python",
   "name": "python",
   "nbconvert_exporter": "python",
   "pygments_lexer": "ipython3",
   "version": "3.9.7"
  }
 },
 "nbformat": 4,
 "nbformat_minor": 5
}
